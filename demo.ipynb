{
 "cells": [
  {
   "cell_type": "code",
   "execution_count": 19,
   "id": "initial_id",
   "metadata": {
    "collapsed": true,
    "ExecuteTime": {
     "end_time": "2023-11-10T12:23:02.988806700Z",
     "start_time": "2023-11-10T12:23:02.962546400Z"
    }
   },
   "outputs": [],
   "source": [
    "import lorem\n",
    "from stylometry import TextSample, TextDataset\n",
    "\n",
    "# the stylometry package makes use of np.lib.stride_tricks and np.frombuffer\n",
    "# and as a result requires numpy > 1.24 (note environment.yml"
   ]
  },
  {
   "cell_type": "markdown",
   "source": [
    "We can create TextSample instances from strings of text"
   ],
   "metadata": {
    "collapsed": false
   },
   "id": "8093b7f6dcff33df"
  },
  {
   "cell_type": "code",
   "execution_count": 23,
   "outputs": [
    {
     "data": {
      "text/plain": "Te    0.002732\nem    0.013661\nmp    0.008197\npo    0.013661\nor    0.030055\n        ...   \nis    0.002732\nsc    0.002732\n u    0.002732\nut    0.002732\nm.    0.002732\nLength: 103, dtype: float64"
     },
     "execution_count": 23,
     "metadata": {},
     "output_type": "execute_result"
    }
   ],
   "source": [
    "sample_one , sample_two = lorem.paragraph() , lorem.paragraph()\n",
    "\n",
    "x = TextSample(sample_one)\n",
    "y = TextSample(sample_two, label = 1)\n",
    "\n",
    "x.ngrams_freq"
   ],
   "metadata": {
    "collapsed": false,
    "ExecuteTime": {
     "end_time": "2023-11-10T12:25:03.069796Z",
     "start_time": "2023-11-10T12:25:03.007178800Z"
    }
   },
   "id": "6ab67a2ad6926a2c"
  },
  {
   "cell_type": "code",
   "execution_count": 24,
   "outputs": [
    {
     "data": {
      "text/plain": "Te     1\nem     5\nmp     3\npo     5\nor    11\n      ..\nis     1\nsc     1\n u     1\nut     1\nm.     1\nLength: 103, dtype: int32"
     },
     "execution_count": 24,
     "metadata": {},
     "output_type": "execute_result"
    }
   ],
   "source": [
    "x.ngrams_count"
   ],
   "metadata": {
    "collapsed": false,
    "ExecuteTime": {
     "end_time": "2023-11-10T12:25:07.888101300Z",
     "start_time": "2023-11-10T12:25:07.872461500Z"
    }
   },
   "id": "1c15b21c967c65b9"
  },
  {
   "cell_type": "raw",
   "source": [
    "The managed attribute .n and .label can be changed after instantiation"
   ],
   "metadata": {
    "collapsed": false
   },
   "id": "11ec7dc9b109b9ba"
  },
  {
   "cell_type": "code",
   "execution_count": 26,
   "outputs": [
    {
     "data": {
      "text/plain": "Etinci    1\ntincid    2\nincidu    2\nncidun    2\ncidunt    2\n         ..\nquia d    1\nuia do    1\nia dol    1\nolorem    1\nlorem.    1\nLength: 315, dtype: int32"
     },
     "execution_count": 26,
     "metadata": {},
     "output_type": "execute_result"
    }
   ],
   "source": [
    "y.n = 6\n",
    "y.label = 99\n",
    "\n",
    "y.ngrams_count"
   ],
   "metadata": {
    "collapsed": false,
    "ExecuteTime": {
     "end_time": "2023-11-10T12:25:27.730586900Z",
     "start_time": "2023-11-10T12:25:27.683969500Z"
    }
   },
   "id": "fee18baab438c18f"
  },
  {
   "cell_type": "code",
   "execution_count": 33,
   "outputs": [
    {
     "data": {
      "text/plain": "Etinci    1\ntincid    2\nincidu    2\nncidun    2\ncidunt    2\n         ..\nquia d    1\nuia do    1\nia dol    1\nolorem    1\nlorem.    1\nLength: 315, dtype: int32"
     },
     "execution_count": 33,
     "metadata": {},
     "output_type": "execute_result"
    }
   ],
   "source": [
    "y.ngrams_count"
   ],
   "metadata": {
    "collapsed": false,
    "ExecuteTime": {
     "end_time": "2023-11-10T12:26:57.798097500Z",
     "start_time": "2023-11-10T12:26:57.766510300Z"
    }
   },
   "id": "d53bb50cacbd7030"
  },
  {
   "cell_type": "raw",
   "source": [
    "Usually, interest centres on a collection of text samples. For this, we can use TextDataset"
   ],
   "metadata": {
    "collapsed": false
   },
   "id": "b46a86da4c7c891e"
  },
  {
   "cell_type": "code",
   "execution_count": 37,
   "outputs": [
    {
     "data": {
      "text/plain": "         Co        Do        Ei        Et        Ip       Ne        Nu  \\\n0  0.000000  0.005479  0.000000  0.005479  0.000000  0.00274  0.002740   \n1  0.002326  0.002326  0.002326  0.000000  0.002326  0.00000  0.002326   \n\n         Po        Qu        Se  ...       um        um.       umq       unt  \\\n0  0.000000  0.000000  0.000000  ...  0.000000  0.000000  0.002740  0.013699   \n1  0.002326  0.002326  0.002326  ...  0.011628  0.002326  0.004651  0.004651   \n\n        upt       ur        us        ut        vel       vol  \n0  0.002740  0.005479  0.005479  0.002740  0.008219  0.000000  \n1  0.006977  0.004651  0.002326  0.002326  0.004651  0.006977  \n\n[2 rows x 234 columns]",
      "text/html": "<div>\n<style scoped>\n    .dataframe tbody tr th:only-of-type {\n        vertical-align: middle;\n    }\n\n    .dataframe tbody tr th {\n        vertical-align: top;\n    }\n\n    .dataframe thead th {\n        text-align: right;\n    }\n</style>\n<table border=\"1\" class=\"dataframe\">\n  <thead>\n    <tr style=\"text-align: right;\">\n      <th></th>\n      <th>Co</th>\n      <th>Do</th>\n      <th>Ei</th>\n      <th>Et</th>\n      <th>Ip</th>\n      <th>Ne</th>\n      <th>Nu</th>\n      <th>Po</th>\n      <th>Qu</th>\n      <th>Se</th>\n      <th>...</th>\n      <th>um</th>\n      <th>um.</th>\n      <th>umq</th>\n      <th>unt</th>\n      <th>upt</th>\n      <th>ur</th>\n      <th>us</th>\n      <th>ut</th>\n      <th>vel</th>\n      <th>vol</th>\n    </tr>\n  </thead>\n  <tbody>\n    <tr>\n      <th>0</th>\n      <td>0.000000</td>\n      <td>0.005479</td>\n      <td>0.000000</td>\n      <td>0.005479</td>\n      <td>0.000000</td>\n      <td>0.00274</td>\n      <td>0.002740</td>\n      <td>0.000000</td>\n      <td>0.000000</td>\n      <td>0.000000</td>\n      <td>...</td>\n      <td>0.000000</td>\n      <td>0.000000</td>\n      <td>0.002740</td>\n      <td>0.013699</td>\n      <td>0.002740</td>\n      <td>0.005479</td>\n      <td>0.005479</td>\n      <td>0.002740</td>\n      <td>0.008219</td>\n      <td>0.000000</td>\n    </tr>\n    <tr>\n      <th>1</th>\n      <td>0.002326</td>\n      <td>0.002326</td>\n      <td>0.002326</td>\n      <td>0.000000</td>\n      <td>0.002326</td>\n      <td>0.00000</td>\n      <td>0.002326</td>\n      <td>0.002326</td>\n      <td>0.002326</td>\n      <td>0.002326</td>\n      <td>...</td>\n      <td>0.011628</td>\n      <td>0.002326</td>\n      <td>0.004651</td>\n      <td>0.004651</td>\n      <td>0.006977</td>\n      <td>0.004651</td>\n      <td>0.002326</td>\n      <td>0.002326</td>\n      <td>0.004651</td>\n      <td>0.006977</td>\n    </tr>\n  </tbody>\n</table>\n<p>2 rows × 234 columns</p>\n</div>"
     },
     "execution_count": 37,
     "metadata": {},
     "output_type": "execute_result"
    }
   ],
   "source": [
    "dataset = TextDataset(x,y,n=3)\n",
    "dataset.X"
   ],
   "metadata": {
    "collapsed": false,
    "ExecuteTime": {
     "end_time": "2023-11-10T12:28:29.881744800Z",
     "start_time": "2023-11-10T12:28:29.832278700Z"
    }
   },
   "id": "e2fd6a64ba680d45"
  },
  {
   "cell_type": "code",
   "execution_count": 38,
   "outputs": [
    {
     "data": {
      "text/plain": "   label\n0      0\n1     99",
      "text/html": "<div>\n<style scoped>\n    .dataframe tbody tr th:only-of-type {\n        vertical-align: middle;\n    }\n\n    .dataframe tbody tr th {\n        vertical-align: top;\n    }\n\n    .dataframe thead th {\n        text-align: right;\n    }\n</style>\n<table border=\"1\" class=\"dataframe\">\n  <thead>\n    <tr style=\"text-align: right;\">\n      <th></th>\n      <th>label</th>\n    </tr>\n  </thead>\n  <tbody>\n    <tr>\n      <th>0</th>\n      <td>0</td>\n    </tr>\n    <tr>\n      <th>1</th>\n      <td>99</td>\n    </tr>\n  </tbody>\n</table>\n</div>"
     },
     "execution_count": 38,
     "metadata": {},
     "output_type": "execute_result"
    }
   ],
   "source": [
    "dataset.Y"
   ],
   "metadata": {
    "collapsed": false,
    "ExecuteTime": {
     "end_time": "2023-11-10T12:28:36.698847800Z",
     "start_time": "2023-11-10T12:28:36.651799500Z"
    }
   },
   "id": "dc0f1d65d43f1006"
  },
  {
   "cell_type": "raw",
   "source": [
    "There is little scientific consensus as to what length n-grams are most useful- this is heavily dependent on application, language and text preprocessing.\n",
    "Some authors have shown that, for English Language, supervised learning tasks concerned with authorship attribution, n>5 or n>7 seems to work best and that\n",
    "if the symbol set consists only of letters and digits (no punctuation or other symbols) still larger n-grams are needed to attain useful results. \n",
    "\n",
    "The TextDataset class allows the data to be expressed can be adjusted dymanically, as before."
   ],
   "metadata": {
    "collapsed": false
   },
   "id": "be921800710ae2d7"
  },
  {
   "cell_type": "code",
   "execution_count": 44,
   "outputs": [
    {
     "data": {
      "text/plain": "   olor  quam  dolo   dol  uam   lore  ore    qui  ncid  tinc\n0     6     6     4     4     5     5     4     2     5     5\n1     9     7     8     8     7     4     5     6     2     2",
      "text/html": "<div>\n<style scoped>\n    .dataframe tbody tr th:only-of-type {\n        vertical-align: middle;\n    }\n\n    .dataframe tbody tr th {\n        vertical-align: top;\n    }\n\n    .dataframe thead th {\n        text-align: right;\n    }\n</style>\n<table border=\"1\" class=\"dataframe\">\n  <thead>\n    <tr style=\"text-align: right;\">\n      <th></th>\n      <th>olor</th>\n      <th>quam</th>\n      <th>dolo</th>\n      <th>dol</th>\n      <th>uam</th>\n      <th>lore</th>\n      <th>ore</th>\n      <th>qui</th>\n      <th>ncid</th>\n      <th>tinc</th>\n    </tr>\n  </thead>\n  <tbody>\n    <tr>\n      <th>0</th>\n      <td>6</td>\n      <td>6</td>\n      <td>4</td>\n      <td>4</td>\n      <td>5</td>\n      <td>5</td>\n      <td>4</td>\n      <td>2</td>\n      <td>5</td>\n      <td>5</td>\n    </tr>\n    <tr>\n      <th>1</th>\n      <td>9</td>\n      <td>7</td>\n      <td>8</td>\n      <td>8</td>\n      <td>7</td>\n      <td>4</td>\n      <td>5</td>\n      <td>6</td>\n      <td>2</td>\n      <td>2</td>\n    </tr>\n  </tbody>\n</table>\n</div>"
     },
     "execution_count": 44,
     "metadata": {},
     "output_type": "execute_result"
    }
   ],
   "source": [
    "dataset(n=4, counts=True, most_frequent=10)\n",
    "dataset.X"
   ],
   "metadata": {
    "collapsed": false,
    "ExecuteTime": {
     "end_time": "2023-11-10T12:33:04.091534100Z",
     "start_time": "2023-11-10T12:33:04.044548100Z"
    }
   },
   "id": "6289412fb65883a7"
  },
  {
   "cell_type": "code",
   "execution_count": 45,
   "outputs": [
    {
     "data": {
      "text/plain": "         C         D         E        I         N        P        Q        S  \\\n0  0.00000  0.005464  0.005464  0.00000  0.005464  0.00000  0.00000  0.00000   \n1  0.00232  0.002320  0.002320  0.00232  0.002320  0.00232  0.00232  0.00232   \n\n         U         V  ...        ue        ui        um        un        up  \\\n0  0.00000  0.002732  ...  0.002732  0.010929  0.002732  0.013661  0.002732   \n1  0.00232  0.000000  ...  0.004640  0.023202  0.018561  0.004640  0.006961   \n\n         ur        us        ut        ve        vo  \n0  0.005464  0.005464  0.002732  0.008197  0.000000  \n1  0.004640  0.002320  0.002320  0.004640  0.006961  \n\n[2 rows x 136 columns]",
      "text/html": "<div>\n<style scoped>\n    .dataframe tbody tr th:only-of-type {\n        vertical-align: middle;\n    }\n\n    .dataframe tbody tr th {\n        vertical-align: top;\n    }\n\n    .dataframe thead th {\n        text-align: right;\n    }\n</style>\n<table border=\"1\" class=\"dataframe\">\n  <thead>\n    <tr style=\"text-align: right;\">\n      <th></th>\n      <th>C</th>\n      <th>D</th>\n      <th>E</th>\n      <th>I</th>\n      <th>N</th>\n      <th>P</th>\n      <th>Q</th>\n      <th>S</th>\n      <th>U</th>\n      <th>V</th>\n      <th>...</th>\n      <th>ue</th>\n      <th>ui</th>\n      <th>um</th>\n      <th>un</th>\n      <th>up</th>\n      <th>ur</th>\n      <th>us</th>\n      <th>ut</th>\n      <th>ve</th>\n      <th>vo</th>\n    </tr>\n  </thead>\n  <tbody>\n    <tr>\n      <th>0</th>\n      <td>0.00000</td>\n      <td>0.005464</td>\n      <td>0.005464</td>\n      <td>0.00000</td>\n      <td>0.005464</td>\n      <td>0.00000</td>\n      <td>0.00000</td>\n      <td>0.00000</td>\n      <td>0.00000</td>\n      <td>0.002732</td>\n      <td>...</td>\n      <td>0.002732</td>\n      <td>0.010929</td>\n      <td>0.002732</td>\n      <td>0.013661</td>\n      <td>0.002732</td>\n      <td>0.005464</td>\n      <td>0.005464</td>\n      <td>0.002732</td>\n      <td>0.008197</td>\n      <td>0.000000</td>\n    </tr>\n    <tr>\n      <th>1</th>\n      <td>0.00232</td>\n      <td>0.002320</td>\n      <td>0.002320</td>\n      <td>0.00232</td>\n      <td>0.002320</td>\n      <td>0.00232</td>\n      <td>0.00232</td>\n      <td>0.00232</td>\n      <td>0.00232</td>\n      <td>0.000000</td>\n      <td>...</td>\n      <td>0.004640</td>\n      <td>0.023202</td>\n      <td>0.018561</td>\n      <td>0.004640</td>\n      <td>0.006961</td>\n      <td>0.004640</td>\n      <td>0.002320</td>\n      <td>0.002320</td>\n      <td>0.004640</td>\n      <td>0.006961</td>\n    </tr>\n  </tbody>\n</table>\n<p>2 rows × 136 columns</p>\n</div>"
     },
     "execution_count": 45,
     "metadata": {},
     "output_type": "execute_result"
    }
   ],
   "source": [
    "dataset(n=2, counts=False, most_freq=15)\n",
    "dataset.X"
   ],
   "metadata": {
    "collapsed": false,
    "ExecuteTime": {
     "end_time": "2023-11-10T12:33:29.577975200Z",
     "start_time": "2023-11-10T12:33:29.499735400Z"
    }
   },
   "id": "3c3785751fed6f92"
  },
  {
   "cell_type": "code",
   "execution_count": null,
   "outputs": [],
   "source": [],
   "metadata": {
    "collapsed": false
   },
   "id": "58399ef463b4e5fa"
  }
 ],
 "metadata": {
  "kernelspec": {
   "name": "conda-env-np-standard-py",
   "language": "python",
   "display_name": "Python [conda env:np-standard] *"
  },
  "language_info": {
   "codemirror_mode": {
    "name": "ipython",
    "version": 2
   },
   "file_extension": ".py",
   "mimetype": "text/x-python",
   "name": "python",
   "nbconvert_exporter": "python",
   "pygments_lexer": "ipython2",
   "version": "2.7.6"
  }
 },
 "nbformat": 4,
 "nbformat_minor": 5
}
